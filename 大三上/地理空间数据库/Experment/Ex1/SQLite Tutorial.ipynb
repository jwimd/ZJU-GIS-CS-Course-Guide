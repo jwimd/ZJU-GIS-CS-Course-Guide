{
 "cells": [
  {
   "cell_type": "markdown",
   "metadata": {},
   "source": [
    "# SQLite Tutorial"
   ]
  },
  {
   "cell_type": "markdown",
   "metadata": {},
   "source": [
    "在Jyputer Notebook中使用SQL，需要载入ipython-sql [extension](https://github.com/catherinedevlin/ipython-sql)"
   ]
  },
  {
   "cell_type": "code",
   "execution_count": 1,
   "metadata": {
    "collapsed": true
   },
   "outputs": [],
   "source": [
    "%load_ext sql"
   ]
  },
  {
   "cell_type": "markdown",
   "metadata": {},
   "source": [
    "SQLite是Python缺省安装的数据库系统。与其他数据库系统不同，SQLite数据库可以从文件中载入，其中dataset.db在当前目录下，也可以使用空的内存数据库，即Kernel结束后不保存到文件。\n",
    "\n",
    "``%sql sqlite:///dataset.db``\n",
    "\n",
    "``%sql sqlite://``\n",
    "\n",
    "在Jyputer Notebook中，%sql标记**当前行**为SQL命令语句，%%sql标记**当前行及下面多行**为SQL命令语句。 "
   ]
  },
  {
   "cell_type": "code",
   "execution_count": 2,
   "metadata": {
    "collapsed": true
   },
   "outputs": [],
   "source": [
    "%sql sqlite://"
   ]
  },
  {
   "cell_type": "markdown",
   "metadata": {},
   "source": [
    "创建课程修读关系SC(Sno, Cno, Grade)，并插入相关数据"
   ]
  },
  {
   "cell_type": "code",
   "execution_count": 5,
   "metadata": {
    "collapsed": true
   },
   "outputs": [
    {
     "name": "stdout",
     "output_type": "stream",
     "text": [
      " * sqlite://\n",
      "Done.\n",
      "Done.\n",
      "1 rows affected.\n",
      "1 rows affected.\n",
      "1 rows affected.\n",
      "1 rows affected.\n",
      "1 rows affected.\n",
      "1 rows affected.\n",
      "1 rows affected.\n",
      "1 rows affected.\n",
      "1 rows affected.\n"
     ]
    },
    {
     "data": {
      "text/plain": [
       "[]"
      ]
     },
     "execution_count": 5,
     "metadata": {},
     "output_type": "execute_result"
    }
   ],
   "source": [
    "%%sql\n",
    "drop table if exists SC;\n",
    "create table SC (Sno int, Cno int, Grade int);\n",
    "insert into SC values(30001, 101, 83);\n",
    "insert into SC values(30002, 101, 92);\n",
    "insert into SC values(30003, 101, 74);\n",
    "insert into SC values(30004, 101, 86);\n",
    "insert into SC values(30005, 101, 62);\n",
    "insert into SC values(30001, 102, 79);\n",
    "insert into SC values(30003, 102, 61);\n",
    "insert into SC values(30005, 102, NULL);\n",
    "insert into SC values(30001, 103, 87);"
   ]
  },
  {
   "cell_type": "code",
   "execution_count": 6,
   "metadata": {
    "collapsed": true
   },
   "outputs": [
    {
     "name": "stdout",
     "output_type": "stream",
     "text": [
      " * sqlite://\n",
      "Done.\n"
     ]
    },
    {
     "data": {
      "text/html": [
       "<table>\n",
       "    <tr>\n",
       "        <th>Sno</th>\n",
       "        <th>Cno</th>\n",
       "        <th>Grade</th>\n",
       "    </tr>\n",
       "    <tr>\n",
       "        <td>30001</td>\n",
       "        <td>101</td>\n",
       "        <td>83</td>\n",
       "    </tr>\n",
       "    <tr>\n",
       "        <td>30002</td>\n",
       "        <td>101</td>\n",
       "        <td>92</td>\n",
       "    </tr>\n",
       "    <tr>\n",
       "        <td>30003</td>\n",
       "        <td>101</td>\n",
       "        <td>74</td>\n",
       "    </tr>\n",
       "    <tr>\n",
       "        <td>30004</td>\n",
       "        <td>101</td>\n",
       "        <td>86</td>\n",
       "    </tr>\n",
       "    <tr>\n",
       "        <td>30005</td>\n",
       "        <td>101</td>\n",
       "        <td>62</td>\n",
       "    </tr>\n",
       "    <tr>\n",
       "        <td>30001</td>\n",
       "        <td>102</td>\n",
       "        <td>79</td>\n",
       "    </tr>\n",
       "    <tr>\n",
       "        <td>30003</td>\n",
       "        <td>102</td>\n",
       "        <td>61</td>\n",
       "    </tr>\n",
       "    <tr>\n",
       "        <td>30005</td>\n",
       "        <td>102</td>\n",
       "        <td>None</td>\n",
       "    </tr>\n",
       "    <tr>\n",
       "        <td>30001</td>\n",
       "        <td>103</td>\n",
       "        <td>87</td>\n",
       "    </tr>\n",
       "</table>"
      ],
      "text/plain": [
       "[(30001, 101, 83),\n",
       " (30002, 101, 92),\n",
       " (30003, 101, 74),\n",
       " (30004, 101, 86),\n",
       " (30005, 101, 62),\n",
       " (30001, 102, 79),\n",
       " (30003, 102, 61),\n",
       " (30005, 102, None),\n",
       " (30001, 103, 87)]"
      ]
     },
     "execution_count": 6,
     "metadata": {},
     "output_type": "execute_result"
    }
   ],
   "source": [
    "%sql select * from SC;"
   ]
  },
  {
   "cell_type": "code",
   "execution_count": 7,
   "metadata": {
    "collapsed": true
   },
   "outputs": [
    {
     "name": "stdout",
     "output_type": "stream",
     "text": [
      " * sqlite://\n",
      "Done.\n"
     ]
    },
    {
     "data": {
      "text/html": [
       "<table>\n",
       "    <tr>\n",
       "        <th>count(*)</th>\n",
       "    </tr>\n",
       "    <tr>\n",
       "        <td>5</td>\n",
       "    </tr>\n",
       "</table>"
      ],
      "text/plain": [
       "[(5,)]"
      ]
     },
     "execution_count": 7,
     "metadata": {},
     "output_type": "execute_result"
    }
   ],
   "source": [
    "%sql select count(*) from SC where Cno = 101"
   ]
  },
  {
   "cell_type": "code",
   "execution_count": 8,
   "metadata": {
    "collapsed": true
   },
   "outputs": [
    {
     "name": "stdout",
     "output_type": "stream",
     "text": [
      " * sqlite://\n",
      "Done.\n"
     ]
    },
    {
     "data": {
      "text/html": [
       "<table>\n",
       "    <tr>\n",
       "        <th>Cno</th>\n",
       "        <th>max(Grade)</th>\n",
       "    </tr>\n",
       "    <tr>\n",
       "        <td>101</td>\n",
       "        <td>92</td>\n",
       "    </tr>\n",
       "    <tr>\n",
       "        <td>102</td>\n",
       "        <td>79</td>\n",
       "    </tr>\n",
       "    <tr>\n",
       "        <td>103</td>\n",
       "        <td>87</td>\n",
       "    </tr>\n",
       "</table>"
      ],
      "text/plain": [
       "[(101, 92), (102, 79), (103, 87)]"
      ]
     },
     "execution_count": 8,
     "metadata": {},
     "output_type": "execute_result"
    }
   ],
   "source": [
    "%%sql\n",
    "select Cno, max(Grade)\n",
    "from SC\n",
    "group by Cno"
   ]
  },
  {
   "cell_type": "markdown",
   "metadata": {},
   "source": [
    "查询结果可以保存到Python的变量中"
   ]
  },
  {
   "cell_type": "code",
   "execution_count": 9,
   "metadata": {
    "collapsed": true
   },
   "outputs": [
    {
     "name": "stdout",
     "output_type": "stream",
     "text": [
      " * sqlite://\n",
      "Done.\n"
     ]
    }
   ],
   "source": [
    "result = %sql select * from SC where Cno = 101"
   ]
  },
  {
   "cell_type": "code",
   "execution_count": 10,
   "metadata": {
    "collapsed": true
   },
   "outputs": [
    {
     "data": {
      "text/plain": [
       "RMKeyView(['Sno', 'Cno', 'Grade'])"
      ]
     },
     "execution_count": 10,
     "metadata": {},
     "output_type": "execute_result"
    }
   ],
   "source": [
    "result.keys"
   ]
  },
  {
   "cell_type": "markdown",
   "metadata": {},
   "source": [
    "通过len获得结果数量"
   ]
  },
  {
   "cell_type": "code",
   "execution_count": 11,
   "metadata": {
    "collapsed": true
   },
   "outputs": [
    {
     "data": {
      "text/plain": [
       "5"
      ]
     },
     "execution_count": 11,
     "metadata": {},
     "output_type": "execute_result"
    }
   ],
   "source": [
    "len(result)"
   ]
  },
  {
   "cell_type": "markdown",
   "metadata": {},
   "source": [
    "查询结果可以通过索引下标访问，每个属性可以也通过列名访问"
   ]
  },
  {
   "cell_type": "code",
   "execution_count": 12,
   "metadata": {
    "collapsed": true
   },
   "outputs": [
    {
     "name": "stdout",
     "output_type": "stream",
     "text": [
      "(30001, 101, 83)\n",
      "83\n",
      "83\n"
     ]
    }
   ],
   "source": [
    "print(result[0])\n",
    "print(result[0][2])\n",
    "print(result[0].Grade)"
   ]
  },
  {
   "cell_type": "code",
   "execution_count": 13,
   "metadata": {
    "collapsed": true
   },
   "outputs": [
    {
     "name": "stdout",
     "output_type": "stream",
     "text": [
      "30001 83\n",
      "30002 92\n",
      "30003 74\n",
      "30004 86\n",
      "30005 62\n"
     ]
    }
   ],
   "source": [
    "for row in result:\n",
    "    print(row[0], row[2])"
   ]
  },
  {
   "cell_type": "markdown",
   "metadata": {},
   "source": [
    "Python的变量作为查询语句的参数"
   ]
  },
  {
   "cell_type": "code",
   "execution_count": 14,
   "metadata": {
    "collapsed": true
   },
   "outputs": [
    {
     "name": "stdout",
     "output_type": "stream",
     "text": [
      " * sqlite://\n",
      "1 rows affected.\n"
     ]
    },
    {
     "data": {
      "text/plain": [
       "[]"
      ]
     },
     "execution_count": 14,
     "metadata": {},
     "output_type": "execute_result"
    }
   ],
   "source": [
    "no = 30002\n",
    "Cno = 103\n",
    "%sql insert into SC values(:no, :Cno, 94);"
   ]
  },
  {
   "cell_type": "code",
   "execution_count": 15,
   "metadata": {
    "collapsed": true
   },
   "outputs": [
    {
     "name": "stdout",
     "output_type": "stream",
     "text": [
      " * sqlite://\n",
      "Done.\n",
      "+-------+-----+-------+\n",
      "|  Sno  | Cno | Grade |\n",
      "+-------+-----+-------+\n",
      "| 30001 | 101 |   83  |\n",
      "| 30002 | 101 |   92  |\n",
      "| 30003 | 101 |   74  |\n",
      "| 30004 | 101 |   86  |\n",
      "| 30005 | 101 |   62  |\n",
      "+-------+-----+-------+\n",
      " * sqlite://\n",
      "Done.\n",
      "+-------+-----+-------+\n",
      "|  Sno  | Cno | Grade |\n",
      "+-------+-----+-------+\n",
      "| 30001 | 102 |   79  |\n",
      "| 30003 | 102 |   61  |\n",
      "| 30005 | 102 |  None |\n",
      "+-------+-----+-------+\n",
      " * sqlite://\n",
      "Done.\n",
      "+-------+-----+-------+\n",
      "|  Sno  | Cno | Grade |\n",
      "+-------+-----+-------+\n",
      "| 30001 | 103 |   87  |\n",
      "| 30002 | 103 |   94  |\n",
      "+-------+-----+-------+\n"
     ]
    }
   ],
   "source": [
    "Cno = [101, 102, 103]\n",
    "template = 'select * from SC where Cno = %s'\n",
    "for no in Cno:\n",
    "    query = template % (no)\n",
    "    result = %sql $query\n",
    "    print(result)"
   ]
  },
  {
   "cell_type": "code",
   "execution_count": 16,
   "metadata": {
    "collapsed": true
   },
   "outputs": [
    {
     "name": "stdout",
     "output_type": "stream",
     "text": [
      " * sqlite://\n",
      "Done.\n"
     ]
    },
    {
     "data": {
      "text/html": [
       "<table>\n",
       "    <tr>\n",
       "        <th>Sno</th>\n",
       "        <th>Cno</th>\n",
       "        <th>Grade</th>\n",
       "    </tr>\n",
       "    <tr>\n",
       "        <td>30001</td>\n",
       "        <td>102</td>\n",
       "        <td>79</td>\n",
       "    </tr>\n",
       "    <tr>\n",
       "        <td>30003</td>\n",
       "        <td>102</td>\n",
       "        <td>61</td>\n",
       "    </tr>\n",
       "    <tr>\n",
       "        <td>30005</td>\n",
       "        <td>102</td>\n",
       "        <td>None</td>\n",
       "    </tr>\n",
       "</table>"
      ],
      "text/plain": [
       "[(30001, 102, 79), (30003, 102, 61), (30005, 102, None)]"
      ]
     },
     "execution_count": 16,
     "metadata": {},
     "output_type": "execute_result"
    }
   ],
   "source": [
    "query = \"\"\"\n",
    "select * \n",
    "from SC\n",
    "where Cno = 102\n",
    "\"\"\"\n",
    "%sql $query"
   ]
  },
  {
   "cell_type": "markdown",
   "metadata": {},
   "source": [
    "%time计算当前行的代码运行时间\n",
    "\n",
    "%%time计算当前单元的代码运行时间"
   ]
  },
  {
   "cell_type": "code",
   "execution_count": 17,
   "metadata": {
    "collapsed": true
   },
   "outputs": [
    {
     "name": "stdout",
     "output_type": "stream",
     "text": [
      " * sqlite://\n",
      "Done.\n",
      "CPU times: user 3.78 ms, sys: 475 µs, total: 4.26 ms\n",
      "Wall time: 3.06 ms\n"
     ]
    },
    {
     "data": {
      "text/html": [
       "<table>\n",
       "    <tr>\n",
       "        <th>Sno</th>\n",
       "        <th>Cno</th>\n",
       "        <th>Grade</th>\n",
       "    </tr>\n",
       "    <tr>\n",
       "        <td>30001</td>\n",
       "        <td>101</td>\n",
       "        <td>83</td>\n",
       "    </tr>\n",
       "    <tr>\n",
       "        <td>30002</td>\n",
       "        <td>101</td>\n",
       "        <td>92</td>\n",
       "    </tr>\n",
       "    <tr>\n",
       "        <td>30003</td>\n",
       "        <td>101</td>\n",
       "        <td>74</td>\n",
       "    </tr>\n",
       "    <tr>\n",
       "        <td>30004</td>\n",
       "        <td>101</td>\n",
       "        <td>86</td>\n",
       "    </tr>\n",
       "    <tr>\n",
       "        <td>30005</td>\n",
       "        <td>101</td>\n",
       "        <td>62</td>\n",
       "    </tr>\n",
       "    <tr>\n",
       "        <td>30001</td>\n",
       "        <td>102</td>\n",
       "        <td>79</td>\n",
       "    </tr>\n",
       "    <tr>\n",
       "        <td>30003</td>\n",
       "        <td>102</td>\n",
       "        <td>61</td>\n",
       "    </tr>\n",
       "    <tr>\n",
       "        <td>30005</td>\n",
       "        <td>102</td>\n",
       "        <td>None</td>\n",
       "    </tr>\n",
       "    <tr>\n",
       "        <td>30001</td>\n",
       "        <td>103</td>\n",
       "        <td>87</td>\n",
       "    </tr>\n",
       "    <tr>\n",
       "        <td>30002</td>\n",
       "        <td>103</td>\n",
       "        <td>94</td>\n",
       "    </tr>\n",
       "</table>"
      ],
      "text/plain": [
       "[(30001, 101, 83),\n",
       " (30002, 101, 92),\n",
       " (30003, 101, 74),\n",
       " (30004, 101, 86),\n",
       " (30005, 101, 62),\n",
       " (30001, 102, 79),\n",
       " (30003, 102, 61),\n",
       " (30005, 102, None),\n",
       " (30001, 103, 87),\n",
       " (30002, 103, 94)]"
      ]
     },
     "execution_count": 17,
     "metadata": {},
     "output_type": "execute_result"
    }
   ],
   "source": [
    "%time %sql select * from SC"
   ]
  },
  {
   "cell_type": "code",
   "execution_count": 18,
   "metadata": {
    "collapsed": true
   },
   "outputs": [
    {
     "name": "stdout",
     "output_type": "stream",
     "text": [
      " * sqlite://\n",
      "Done.\n",
      "CPU times: user 3.6 ms, sys: 462 µs, total: 4.06 ms\n",
      "Wall time: 2.6 ms\n"
     ]
    },
    {
     "data": {
      "text/html": [
       "<table>\n",
       "    <tr>\n",
       "        <th>Sno</th>\n",
       "        <th>Cno</th>\n",
       "        <th>Grade</th>\n",
       "    </tr>\n",
       "    <tr>\n",
       "        <td>30001</td>\n",
       "        <td>101</td>\n",
       "        <td>83</td>\n",
       "    </tr>\n",
       "    <tr>\n",
       "        <td>30002</td>\n",
       "        <td>101</td>\n",
       "        <td>92</td>\n",
       "    </tr>\n",
       "    <tr>\n",
       "        <td>30003</td>\n",
       "        <td>101</td>\n",
       "        <td>74</td>\n",
       "    </tr>\n",
       "    <tr>\n",
       "        <td>30004</td>\n",
       "        <td>101</td>\n",
       "        <td>86</td>\n",
       "    </tr>\n",
       "    <tr>\n",
       "        <td>30005</td>\n",
       "        <td>101</td>\n",
       "        <td>62</td>\n",
       "    </tr>\n",
       "    <tr>\n",
       "        <td>30001</td>\n",
       "        <td>102</td>\n",
       "        <td>79</td>\n",
       "    </tr>\n",
       "    <tr>\n",
       "        <td>30003</td>\n",
       "        <td>102</td>\n",
       "        <td>61</td>\n",
       "    </tr>\n",
       "    <tr>\n",
       "        <td>30005</td>\n",
       "        <td>102</td>\n",
       "        <td>None</td>\n",
       "    </tr>\n",
       "    <tr>\n",
       "        <td>30001</td>\n",
       "        <td>103</td>\n",
       "        <td>87</td>\n",
       "    </tr>\n",
       "    <tr>\n",
       "        <td>30002</td>\n",
       "        <td>103</td>\n",
       "        <td>94</td>\n",
       "    </tr>\n",
       "</table>"
      ],
      "text/plain": [
       "[(30001, 101, 83),\n",
       " (30002, 101, 92),\n",
       " (30003, 101, 74),\n",
       " (30004, 101, 86),\n",
       " (30005, 101, 62),\n",
       " (30001, 102, 79),\n",
       " (30003, 102, 61),\n",
       " (30005, 102, None),\n",
       " (30001, 103, 87),\n",
       " (30002, 103, 94)]"
      ]
     },
     "execution_count": 18,
     "metadata": {},
     "output_type": "execute_result"
    }
   ],
   "source": [
    "%%time\n",
    "%sql select * from SC"
   ]
  },
  {
   "cell_type": "markdown",
   "metadata": {},
   "source": [
    "matplotlib可以通过.plot()，.pie()，.bar()对SQL语句查询结果进行可视化，例如"
   ]
  },
  {
   "cell_type": "code",
   "execution_count": 19,
   "metadata": {
    "collapsed": true
   },
   "outputs": [
    {
     "name": "stdout",
     "output_type": "stream",
     "text": [
      " * sqlite://\n",
      "Done.\n"
     ]
    },
    {
     "data": {
      "text/plain": [
       "([<matplotlib.patches.Wedge at 0x7f07a071a580>,\n",
       "  <matplotlib.patches.Wedge at 0x7f07a071a940>,\n",
       "  <matplotlib.patches.Wedge at 0x7f07a071ae20>],\n",
       " [Text(6.735557395310444e-17, 1.1, '101'),\n",
       "  Text(-0.6465637441936395, -0.8899187180267095, '102'),\n",
       "  Text(0.8899187482945414, -0.6465637025335375, '103')])"
      ]
     },
     "execution_count": 19,
     "metadata": {},
     "output_type": "execute_result"
    },
    {
     "data": {
      "image/png": "[encoded data removed]",
      "text/plain": [
       "<Figure size 640x480 with 1 Axes>"
      ]
     },
     "metadata": {},
     "output_type": "display_data"
    }
   ],
   "source": [
    "result = %sql select Cno, count(*) as students from SC group by Cno\n",
    "%matplotlib inline\n",
    "result.pie()"
   ]
  }
 ],
 "metadata": {
  "kernelspec": {
   "display_name": "Python 3.9.13 ('SDB_py')",
   "language": "python",
   "name": "python3"
  },
  "language_info": {
   "codemirror_mode": {
    "name": "ipython",
    "version": 3
   },
   "file_extension": ".py",
   "mimetype": "text/x-python",
   "name": "python",
   "nbconvert_exporter": "python",
   "pygments_lexer": "ipython3",
   "version": "3.9.13"
  },
  "vscode": {
   "interpreter": {
    "hash": "048051c32a64e916e8f64862efa937a2de5b86577359a46353a5ad2ed39e30a0"
   }
  }
 },
 "nbformat": 4,
 "nbformat_minor": 1
}
